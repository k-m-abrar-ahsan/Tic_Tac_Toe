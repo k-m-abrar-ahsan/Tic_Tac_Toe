{
  "nbformat": 4,
  "nbformat_minor": 0,
  "metadata": {
    "colab": {
      "provenance": [],
      "authorship_tag": "ABX9TyPB0/4aHAfodCJJo6djD62o",
      "include_colab_link": true
    },
    "kernelspec": {
      "name": "python3",
      "display_name": "Python 3"
    },
    "language_info": {
      "name": "python"
    }
  },
  "cells": [
    {
      "cell_type": "markdown",
      "metadata": {
        "id": "view-in-github",
        "colab_type": "text"
      },
      "source": [
        "<a href=\"https://colab.research.google.com/github/k-m-abrar-ahsan/Tic_Tac_Toe/blob/main/Tic_Tac_Toe.ipynb\" target=\"_parent\"><img src=\"https://colab.research.google.com/assets/colab-badge.svg\" alt=\"Open In Colab\"/></a>"
      ]
    },
    {
      "cell_type": "code",
      "execution_count": 6,
      "metadata": {
        "id": "sI234msq4Le1"
      },
      "outputs": [],
      "source": [
        "def DrawBoard():\n",
        "  print(\" %c | %c | %c \" % (board[0],board[1],board[2]))\n",
        "  print(\"___|___|___\")\n",
        "  print(\" %c | %c | %c \" % (board[3],board[4],board[5]))\n",
        "  print(\"___|___|___\")\n",
        "  print(\" %c | %c | %c \" % (board[6],board[7],board[8]))\n",
        "  print(\"   |   |   \")\n",
        "board=[' ',' ',' ',' ',' ',' ',' ',' ',' ']"
      ]
    },
    {
      "cell_type": "code",
      "source": [
        "def CheckWin():\n",
        "    #Horizontal winning condition\n",
        "    if(board[0] == board[1] and board[1] == board[2] and board[0]!=' ' and board[1]!= ' ' and board[2]!=' '):\n",
        "        Game = 'Win'\n",
        "    elif(board[3] == board[4] and board[4] == board[5] and board[3]!=' ' and board[4]!= ' ' and board[5]!=' '):\n",
        "        Game = 'Win'\n",
        "    elif(board[6] == board[7] and board[7] == board[8] and board[6]!=' 'and board[7]!= ' ' and board[8]!=' '):\n",
        "        Game = 'Win'\n",
        "    #Vertical Winning Condition\n",
        "    elif(board[0] == board[3] and board[3] == board[6] and board[0]!=' ' and board[3]!= ' ' and board[6]!=' '):\n",
        "        Game = 'Win'\n",
        "    elif(board[1] == board[4] and board[4] == board[7] and board[1]!=' 'and board[4]!= ' ' and board[7]!=' '):\n",
        "        Game = 'Win'\n",
        "    elif(board[2] == board[5] and board[5] == board[8] and board[2]!=' 'and board[5]!= ' ' and board[8]!=' '):\n",
        "        Game='Win'\n",
        "    #Diagonal Winning Condition\n",
        "    elif(board[0] == board[4] and board[4] == board[8] and board[0]!=' 'and board[4]!= ' ' and board[8]!=' '):\n",
        "        Game = 'Win'\n",
        "    elif(board[2] == board[4] and board[4] == board[6] and board[2]!=' 'and board[4]!= ' ' and board[6]!=' '):\n",
        "        Game='Win'\n",
        "    #Match Tie or Draw Condition\n",
        "    elif(board[1]!=' ' and board[2]!=' ' and board[3]!=' ' and board[4]!=' ' and board[5]!=' ' and board[6]!=' ' and board[7]!=' ' and board[8]!=' ' and board[0]!=' '):\n",
        "        Game='Draw'\n",
        "    else:\n",
        "        Game='Running'\n",
        "    return Game"
      ],
      "metadata": {
        "id": "zdlRO8fA4S21"
      },
      "execution_count": 7,
      "outputs": []
    },
    {
      "cell_type": "code",
      "source": [
        "control = [1, 2, 3, 4, 5, 6, 7, 8, 9]\n",
        "x_list = []\n",
        "y_list = []\n",
        "n = 0\n",
        "\n",
        "roll = True\n",
        "while n != 9:\n",
        "    n += 1\n",
        "    if n % 2 != 0:\n",
        "        while True:\n",
        "            x = int(input('1st Player:'))\n",
        "            roll = False if x not in x_list and x in control and x not in y_list else True\n",
        "            if roll == False:\n",
        "                x_list.append(x)\n",
        "                board[x - 1] = \"X\"\n",
        "                DrawBoard()\n",
        "                print(CheckWin())\n",
        "                break\n",
        "    if CheckWin() == \"Win\":\n",
        "        print('Player 1 wins')\n",
        "        break\n",
        "\n",
        "    if n % 2 == 0:\n",
        "        while True:\n",
        "            y = int(input('2nd Player:'))\n",
        "            roll = False if y not in y_list and y in control and y not in x_list else True\n",
        "            if roll == False:\n",
        "                y_list.append(y)\n",
        "                board[y - 1] = \"O\"\n",
        "                DrawBoard()\n",
        "                print(CheckWin())\n",
        "                break\n",
        "    if CheckWin() == \"Win\":\n",
        "        print('Player 2 wins')\n",
        "        break"
      ],
      "metadata": {
        "colab": {
          "base_uri": "https://localhost:8080/"
        },
        "id": "daGHal7v4Y5o",
        "outputId": "204480fc-31aa-44ef-fc32-608097fb6400"
      },
      "execution_count": 8,
      "outputs": [
        {
          "output_type": "stream",
          "name": "stdout",
          "text": [
            "1st Player:1\n",
            " X |   |   \n",
            "___|___|___\n",
            "   |   |   \n",
            "___|___|___\n",
            "   |   |   \n",
            "   |   |   \n",
            "Running\n",
            "2nd Player:2\n",
            " X | O |   \n",
            "___|___|___\n",
            "   |   |   \n",
            "___|___|___\n",
            "   |   |   \n",
            "   |   |   \n",
            "None\n",
            "1st Player:3\n",
            " X | O | X \n",
            "___|___|___\n",
            "   |   |   \n",
            "___|___|___\n",
            "   |   |   \n",
            "   |   |   \n",
            "Running\n",
            "2nd Player:5\n",
            " X | O | X \n",
            "___|___|___\n",
            "   | O |   \n",
            "___|___|___\n",
            "   |   |   \n",
            "   |   |   \n",
            "None\n",
            "1st Player:6\n",
            " X | O | X \n",
            "___|___|___\n",
            "   | O | X \n",
            "___|___|___\n",
            "   |   |   \n",
            "   |   |   \n",
            "Running\n",
            "2nd Player:8\n",
            " X | O | X \n",
            "___|___|___\n",
            "   | O | X \n",
            "___|___|___\n",
            "   | O |   \n",
            "   |   |   \n",
            "None\n",
            "Player 2 wins\n"
          ]
        }
      ]
    }
  ]
}