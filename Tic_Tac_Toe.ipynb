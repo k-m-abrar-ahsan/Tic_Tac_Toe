{
  "nbformat": 4,
  "nbformat_minor": 0,
  "metadata": {
    "colab": {
      "provenance": [],
      "include_colab_link": true
    },
    "kernelspec": {
      "name": "python3",
      "display_name": "Python 3"
    },
    "language_info": {
      "name": "python"
    }
  },
  "cells": [
    {
      "cell_type": "markdown",
      "metadata": {
        "id": "view-in-github",
        "colab_type": "text"
      },
      "source": [
        "<a href=\"https://colab.research.google.com/github/k-m-abrar-ahsan/Tic_Tac_Toe/blob/main/Tic_Tac_Toe.ipynb\" target=\"_parent\"><img src=\"https://colab.research.google.com/assets/colab-badge.svg\" alt=\"Open In Colab\"/></a>"
      ]
    },
    {
      "cell_type": "code",
      "execution_count": null,
      "metadata": {
        "id": "sI234msq4Le1"
      },
      "outputs": [],
      "source": [
        "import math\n",
        "def DrawBoard():\n",
        "  print(\" %c | %c | %c \" % (board[0],board[1],board[2]))\n",
        "  print(\"___|___|___\")\n",
        "  print(\" %c | %c | %c \" % (board[3],board[4],board[5]))\n",
        "  print(\"___|___|___\")\n",
        "  print(\" %c | %c | %c \" % (board[6],board[7],board[8]))\n",
        "  print(\"   |   |   \")\n",
        "board = [' ' for _ in range(9)]"
      ]
    },
    {
      "cell_type": "code",
      "source": [
        "def CheckWin():\n",
        "    # Horizontal winning conditions\n",
        "    if board[0] == board[1] == board[2] and board[0] != ' ':\n",
        "        return board[0]\n",
        "    if board[3] == board[4] == board[5] and board[3] != ' ':\n",
        "        return board[3]\n",
        "    if board[6] == board[7] == board[8] and board[6] != ' ':\n",
        "        return board[6]\n",
        "\n",
        "    # Vertical winning conditions\n",
        "    if board[0] == board[3] == board[6] and board[0] != ' ':\n",
        "        return board[0]\n",
        "    if board[1] == board[4] == board[7] and board[1] != ' ':\n",
        "        return board[1]\n",
        "    if board[2] == board[5] == board[8] and board[2] != ' ':\n",
        "        return board[2]\n",
        "\n",
        "    # Diagonal winning conditions\n",
        "    if board[0] == board[4] == board[8] and board[0] != ' ':\n",
        "        return board[0]\n",
        "    if board[2] == board[4] == board[6] and board[2] != ' ':\n",
        "        return board[2]\n",
        "\n",
        "    # Draw condition\n",
        "    if ' ' not in board:\n",
        "        return 'Draw'\n",
        "\n",
        "    return None"
      ],
      "metadata": {
        "id": "zdlRO8fA4S21"
      },
      "execution_count": null,
      "outputs": []
    },
    {
      "cell_type": "code",
      "source": [
        "def PlayerMove():\n",
        "    while True:\n",
        "        move = int(input(\"Enter your move (1-9): \")) - 1\n",
        "        if board[move] == ' ':\n",
        "            board[move] = 'X'\n",
        "            break\n",
        "        else:\n",
        "            print(\"Invalid move, try again.\")"
      ],
      "metadata": {
        "id": "TqOj9rXk9kLe"
      },
      "execution_count": null,
      "outputs": []
    },
    {
      "cell_type": "code",
      "source": [
        "def alpha_beta(is_maximizing, alpha, beta):\n",
        "    winner = CheckWin()\n",
        "\n",
        "    if winner == 'X':\n",
        "        return -10\n",
        "    elif winner == 'O':\n",
        "        return 10\n",
        "    elif winner == 'Draw':\n",
        "        return 0\n",
        "\n",
        "\n",
        "    if is_maximizing:\n",
        "        best_score = -math.inf\n",
        "        for i in range(9):\n",
        "            if board[i] == ' ':\n",
        "                board[i] = 'O'\n",
        "                score = alpha_beta(False, alpha, beta)\n",
        "                board[i] = ' '\n",
        "                best_score = max(score, best_score)\n",
        "                alpha = max(alpha, score)\n",
        "                if beta <= alpha:\n",
        "                    break\n",
        "        return best_score\n",
        "\n",
        "    else:\n",
        "        best_score = math.inf\n",
        "        for i in range(9):\n",
        "            if board[i] == ' ':\n",
        "                board[i] = 'X'\n",
        "                score = alpha_beta(True, alpha, beta)\n",
        "                board[i] = ' '\n",
        "                best_score = min(score, best_score)\n",
        "                beta = min(beta, score)\n",
        "                if beta <= alpha:\n",
        "                    break\n",
        "        return best_score\n",
        "def ComputerMove():\n",
        "    best_score = -math.inf\n",
        "    best_move = None\n",
        "    for i in range(9):\n",
        "        if board[i] == ' ':\n",
        "            board[i] = 'O'\n",
        "            score = alpha_beta(False, -math.inf, math.inf)\n",
        "            board[i] = ' '\n",
        "            if score > best_score:\n",
        "                best_score = score\n",
        "                best_move = i\n",
        "    board[best_move] = 'O'\n",
        "    print(\"Computer chooses position:\", best_move + 1)"
      ],
      "metadata": {
        "id": "6VtnYdtgXYr5"
      },
      "execution_count": null,
      "outputs": []
    },
    {
      "cell_type": "code",
      "source": [
        "def main():\n",
        "    while True:\n",
        "        DrawBoard()\n",
        "        if CheckWin():\n",
        "            break\n",
        "        PlayerMove()\n",
        "        if CheckWin():\n",
        "            break\n",
        "        ComputerMove()\n",
        "\n",
        "    DrawBoard()\n",
        "    winner = CheckWin()\n",
        "    if winner == 'X':\n",
        "        print(\"You win!\")\n",
        "    elif winner == 'O':\n",
        "        print(\"Computer wins!\")\n",
        "    else:\n",
        "        print(\"It's a draw!\")\n",
        "\n",
        "if __name__ == \"__main__\":\n",
        "    main()"
      ],
      "metadata": {
        "id": "DOkCse4v9OhG",
        "outputId": "44b728dd-8e90-4ec9-b828-1674caf30bd0",
        "colab": {
          "base_uri": "https://localhost:8080/"
        }
      },
      "execution_count": null,
      "outputs": [
        {
          "output_type": "stream",
          "name": "stdout",
          "text": [
            " X | O | X \n",
            "___|___|___\n",
            " O | O | X \n",
            "___|___|___\n",
            " X | X | O \n",
            "   |   |   \n",
            " X | O | X \n",
            "___|___|___\n",
            " O | O | X \n",
            "___|___|___\n",
            " X | X | O \n",
            "   |   |   \n",
            "It's a draw!\n"
          ]
        }
      ]
    },
    {
      "cell_type": "code",
      "source": [],
      "metadata": {
        "id": "nFGAYrYu9OlG"
      },
      "execution_count": null,
      "outputs": []
    }
  ]
}